{
 "cells": [
  {
   "cell_type": "code",
   "execution_count": 3,
   "metadata": {},
   "outputs": [
    {
     "name": "stdout",
     "output_type": "stream",
     "text": [
      " GPS reading\n",
      "----------------------------------------\n",
      "latitude     0.0\n",
      "longitude    0.0\n",
      "\n",
      "eps          nan\n",
      "\n",
      "ept          nan\n",
      "speed (m/s)  nan\n",
      "climb        nan\n",
      "track        nan\n",
      "mode         1\n",
      "sats         []\n",
      " GPS reading\n",
      "----------------------------------------\n",
      "latitude     53.302373333\n",
      "longitude    -4.240695\n",
      "\n",
      "eps          57.73\n",
      "\n",
      "ept          0.005\n",
      "speed (m/s)  0.37\n",
      "climb        0.0\n",
      "track        276.31\n",
      "mode         3\n",
      "sats         [PRN:  23  E:  67  Az: 145  Ss:  35  Used: y, PRN:   3  E:  56  Az:  79  Ss:  38  Used: y, PRN:  19  E:  46  Az: 259  Ss:  22  Used: n, PRN:   6  E:  43  Az: 300  Ss:  19  Used: n, PRN:  17  E:  41  Az: 236  Ss:  18  Used: y, PRN:   9  E:  36  Az: 198  Ss:  27  Used: y, PRN:  22  E:  35  Az:  86  Ss:  29  Used: y, PRN:   1  E:  21  Az: 134  Ss:  31  Used: y, PRN:  31  E:  18  Az:  41  Ss:   0  Used: n, PRN:  12  E:   8  Az: 324  Ss:  24  Used: n, PRN:   2  E:   5  Az: 308  Ss:   0  Used: n, PRN:  25  E:   5  Az:   0  Ss:   0  Used: n, PRN:  11  E:   3  Az: 153  Ss:   0  Used: n, PRN: 121  E:   0  Az:   0  Ss:   0  Used: n]\n"
     ]
    }
   ],
   "source": [
    "#! /usr/bin/python\n",
    "# Written by Dan Mandle http://dan.mandle.me September 2012\n",
    "# License: GPL 2.0\n",
    " \n",
    "import os\n",
    "from gps import *\n",
    "from time import *\n",
    "import time\n",
    "import threading\n",
    " \n",
    "gpsd = None #seting the global variable\n",
    " \n",
    "os.system('clear') #clear the terminal (optional)\n",
    " \n",
    "class GpsPoller(threading.Thread):\n",
    "  def __init__(self):\n",
    "    threading.Thread.__init__(self)\n",
    "    global gpsd #bring it in scope\n",
    "    gpsd = gps(mode=WATCH_ENABLE) #starting the stream of info\n",
    "    self.current_value = None\n",
    "    self.running = True #setting the thread running to true\n",
    " \n",
    "  def run(self):\n",
    "    global gpsd\n",
    "    while gpsp.running:\n",
    "      gpsd.next() #this will continue to loop and grab EACH set of gpsd info to clear the buffer\n",
    " \n",
    "if __name__ == '__main__':\n",
    "  gpsp = GpsPoller() # create the thread\n",
    "  try:\n",
    "    gpsp.start() # start it up\n",
    "    n = 2      #Set the number of iterations \n",
    "    i = n\n",
    "    for x in range(n):\n",
    "      #It may take a second or two to get good data\n",
    "      #print gpsd.fix.latitude,', ',gpsd.fix.longitude,'  Time: ',gpsd.utc\n",
    " \n",
    "      os.system('clear')\n",
    " \n",
    "      print\n",
    "      print (' GPS reading')\n",
    "      print ('----------------------------------------')\n",
    "      print ('latitude    ' , gpsd.fix.latitude)\n",
    "      print ('longitude   ' , gpsd.fix.longitude)\n",
    "      print ()\n",
    "      #print ('time utc    ' , gpsd.utc,' + ', gpsd.fix.time)'altitude (m)' , gpsd.fix.altitude\n",
    "      print ('eps         ' , gpsd.fix.eps)\n",
    "      print ()\n",
    "      #print ('epx         ' , gpsd.fix.epx)'epv         ' , gpsd.fix.epv\n",
    "      print ('ept         ' , gpsd.fix.ept)\n",
    "      print ('speed (m/s) ' , gpsd.fix.speed)\n",
    "      print ('climb       ' , gpsd.fix.climb)\n",
    "      print ('track       ' , gpsd.fix.track)\n",
    "      print ('mode        ' , gpsd.fix.mode)\n",
    "      print\n",
    "      print ('sats        ' , gpsd.satellites)\n",
    " \n",
    "      time.sleep(5) #set to whatever\n",
    " \n",
    "  except (KeyboardInterrupt, SystemExit): #when you press ctrl+c\n",
    "    #print \"\\nKilling Thread...\"\n",
    "    gpsp.running = False\n",
    "    gpsp.join() # wait for the thread to finish what it's doing\n",
    "  #print \"Done.\\nExiting.\""
   ]
  },
  {
   "cell_type": "code",
   "execution_count": 10,
   "metadata": {},
   "outputs": [
    {
     "name": "stdout",
     "output_type": "stream",
     "text": [
      "10000.5\n"
     ]
    }
   ],
   "source": [
    "#Kalman variables\n",
    "#global variance \n",
    "#global predictedTemp\n",
    "#global q\n",
    "#global r\n",
    "#global predictedVariance\n",
    "#global gain\n",
    "#global tempKalman\n",
    "tempKalman = 0.\n",
    "gain = 0.\n",
    "#predictedVariance = 0.\n",
    "variance = 10000.\n",
    "predictedTemp = 10.\n",
    "#q = 0.15\n",
    "#q = 15\n",
    "################################################################\n",
    "q = 5             # Tune this constant for the data type ... Lower value makes smoother.\n",
    "q = 0.5             # Tune this constant for the data type\n",
    "r = 20            # PT100\n",
    "#r = 100            # Tune this constant for the data type ... Higher value makes smoother.\n",
    "n = 200           # Number of readings to take (iterations).\n",
    "################################################################\n",
    "predictedVariance = variance + q\n",
    "\n",
    "print(predictedVariance)\n",
    "\n",
    "def kalman(gain, tempKalman, predictedVariance, variance, predictedTemp):\n",
    "    gain = predictedVariance/(predictedVariance + r)\n",
    "    tempKalman = predictedTemp + gain*(tempPT100 - predictedTemp)\n",
    "    #tempKalman = predictedTemp + gain*(tempExt - predictedTemp)\n",
    "    #tempKalman = predictedTemp + gain*(tempDHT22 - predictedTemp)\n",
    "    variance = (1-gain)*predictedVariance\n",
    "    predictedTemp = tempKalman\n",
    "    predictedVariance = variance + q\n",
    "    return [gain, tempKalman, predictedVariance, variance, predictedTemp]\n",
    "    "
   ]
  },
  {
   "cell_type": "code",
   "execution_count": null,
   "metadata": {},
   "outputs": [
    {
     "name": "stdout",
     "output_type": "stream",
     "text": [
      "..... PROCESSING .....199..198..197..196..195..194..193..192..191..190..189..188..187..186..185..184..183..182..181..180..179..178..177..176..175..174..173..172..171..170..169..168..167..166..165..164..163..162..161..160..159..158..157..156..155..154..153..152..151..150.."
     ]
    }
   ],
   "source": [
    "import datetime\n",
    "import time\n",
    "import Adafruit_DHT\n",
    "import board\n",
    "import busio\n",
    "import digitalio\n",
    "import adafruit_max31865\n",
    "from w1thermsensor import W1ThermSensor\n",
    "\n",
    "\n",
    "# import math functions\n",
    "from math import *\n",
    "import matplotlib.pyplot as plt\n",
    "import numpy as np\n",
    "from array import *\n",
    "import matplotlib.pyplot as plt\n",
    "plt.rcParams['figure.figsize'] = [20, 10]\n",
    "\n",
    "ds18b20Sensor = W1ThermSensor()\n",
    "DHT22Sensor = Adafruit_DHT.DHT22\n",
    "DHTpin = 16\n",
    "\n",
    "# Initialize SPI bus and sensor.\n",
    "spi = busio.SPI(board.SCK, MOSI=board.MOSI, MISO=board.MISO)\n",
    "cs = digitalio.DigitalInOut(board.D5)  # Chip select of the MAX31865 board.\n",
    "sensor = adafruit_max31865.MAX31865(spi, cs)\n",
    "# Note you can optionally provide the thermocouple RTD nominal, the reference\n",
    "# resistance, and the number of wires for the sensor (2 the default, 3, or 4)\n",
    "# with keyword args:\n",
    "sensor = adafruit_max31865.MAX31865(spi, cs, rtd_nominal=100, ref_resistor=430.0, wires=4)\n",
    "\n",
    "now = datetime.datetime.now()\n",
    "#timeString = now.strftime(\"%Y-%m-%d %H:%M\")\n",
    "timeStringS = now.strftime(\"%S\")\n",
    "timeStringM = now.strftime(\"%M\")\n",
    "timeStringH = now.strftime(\"%H\")\n",
    "initialIntTimeString = int(timeStringS) + (int(timeStringM) * 60) + (int(timeStringH) * 60 * 60)\n",
    "\n",
    "print('..... PROCESSING .....',end =\"\")\n",
    "\n",
    "def getSensorData():\n",
    "    #global timeString\n",
    "    #global humLab\n",
    "    global tempExt\n",
    "    #global tempLab\n",
    "    global tempPT100\n",
    "    global tempDHT22\n",
    "    global intTimeString\n",
    "\n",
    "    now = datetime.datetime.now()\n",
    "    #timeString = now.strftime(\"%Y-%m-%d %H:%M\")\n",
    "    timeStringH = now.strftime(\"%H\")\n",
    "    timeStringS = now.strftime(\"%S\")\n",
    "    timeStringM = now.strftime(\"%M\")\n",
    "    intTimeString = int(timeStringS) + (int(timeStringM) * 60) + (int(timeStringH) * 60 * 60)- initialIntTimeString\n",
    "    \n",
    "    tempExt = round(ds18b20Sensor.get_temperature(), 8)\n",
    "    humDHT, tempDHT = Adafruit_DHT.read_retry(DHT22Sensor, DHTpin)\n",
    "    if (humDHT is not None) and (tempDHT is not None):\n",
    "        hum = round (humDHT,3)\n",
    "        tempDHT22 = round (tempDHT, 8)\n",
    "        \n",
    "        \n",
    "    \n",
    "    tempPT100 = round (sensor.temperature,3)\n",
    "    # Print the value.\n",
    "    #print('PT100 sensor = {0:0.5f}*C'.format(tempPT100))\n",
    "    #print('DS18B20 Sensor = {}*C'.format(tempExt))\n",
    "    #print('DHT22 Sensor = {}*C'.format(tempDHT22))\n",
    "    #print()\n",
    "    time.sleep(5.0)\n",
    "\n",
    "    \n",
    "array_DHT22 = array('f', [])\n",
    "array_DS18B20 = array('f', [])\n",
    "array_PT100 = array('f', [])\n",
    "array_PT100Kalman = array('f', [])\n",
    "array_Time = array('i', [])\n",
    "\n",
    "getSensorData()  # Warm up the sensors with one off reading\n",
    "\n",
    "#n = 200      #Set the number of iterations \n",
    "i = n\n",
    "for x in range(n):\n",
    "    try:\n",
    "        getSensorData()\n",
    "        #filter out crappy readings on DHT22 ... TODO: improve eg for readings close to zero\n",
    "        if (x == 0):\n",
    "            previousDHT22Temp = tempDHT22\n",
    "        if ((tempDHT22 > previousDHT22Temp*1.2) or (tempDHT22 < previousDHT22Temp*0.8)):\n",
    "            tempDHT22 = previousDHT22Temp\n",
    "            print('ERROR CORRECTED!', end =\"..\")\n",
    "        previousDHT22Temp = tempDHT22\n",
    "        #end of filter\n",
    "        \n",
    "        gain, tempKalman, predictedVariance, variance, predictedTemp = kalman(gain, tempKalman, predictedVariance, variance, predictedTemp)\n",
    "        \n",
    "        array_DHT22.append(tempDHT22)\n",
    "        array_DS18B20.append(tempExt)\n",
    "        array_PT100.append(tempPT100)\n",
    "        array_PT100Kalman.append(tempKalman)\n",
    "        array_Time.append(intTimeString)\n",
    "        i = i -1\n",
    "        print(i, end =\"..\")\n",
    "\n",
    "    except RuntimeError as error:\n",
    "        # Errors happen fairly often, DHT's are hard to read, just keep going\n",
    "        print(error.args[0])\n",
    "\n",
    "plt.plot(array_Time, array_DHT22)\n",
    "plt.plot(array_Time, array_DS18B20)\n",
    "plt.plot(array_Time, array_PT100)\n",
    "plt.plot(array_Time, array_PT100Kalman)\n",
    "plt.xlabel('Time (seconds)')\n",
    "plt.ylabel('Temperatures (*C)')\n",
    "\n",
    "print()\n",
    "print('PT100 = GREEN')\n",
    "print('PT100Kalman = RED')\n",
    "print('DS18B20 = ORANGE')\n",
    "print('DHT22 = BLUE')\n",
    "print('r = ', end =\"\")\n",
    "print(r, end =\", \")\n",
    "print('q = ', end =\"\")\n",
    "print(q)"
   ]
  },
  {
   "cell_type": "code",
   "execution_count": null,
   "metadata": {},
   "outputs": [],
   "source": [
    "\n",
    "\n",
    "# 1D Kalman Filter\n",
    "\n",
    "Now, you're ready to implement a 1D Kalman Filter by putting all these steps together. Let's take the case of a robot that moves through the world. As a robot moves through the world it locates itself by performing a cycle of:\n",
    "1. sensing and performing a measurement update and\n",
    "2. moving and performing a motion update\n",
    "\n",
    "You've programmed each of these steps individually, so now let's combine them in a cycle!\n",
    "\n",
    "After implementing this filter, you should see that you can go from a very uncertain location Gaussian to a more and more certain Gaussian, as pictured below. The code in this notebooks is really just a simplified version of the Kalman filter that runs in the Google self-driving car that is used to track surrounding vehicles and other objects.\n",
    "\n",
    "<img src='images/gaussian_updates.png' height=70% width=70% />\n",
    "\n",
    "---"
   ]
  },
  {
   "cell_type": "markdown",
   "metadata": {},
   "source": [
    "Below is our usual Gaussian equation and imports."
   ]
  },
  {
   "cell_type": "code",
   "execution_count": 2,
   "metadata": {},
   "outputs": [],
   "source": [
    "# import math functions\n",
    "from math import *\n",
    "import matplotlib.pyplot as plt\n",
    "import numpy as np\n",
    "\n",
    "# gaussian function\n",
    "def f(mu, sigma2, x):\n",
    "    ''' f takes in a mean and squared variance, and an input x\n",
    "       and returns the gaussian value.'''\n",
    "    coefficient = 1.0 / sqrt(2.0 * pi *sigma2)\n",
    "    exponential = exp(-0.5 * (x-mu) ** 2 / sigma2)\n",
    "    return coefficient * exponential\n",
    " "
   ]
  },
  {
   "cell_type": "markdown",
   "metadata": {},
   "source": [
    "You've also been given the complete `update` code that performs a parameter update when an initial belief and new measurement information are merged. And the complete `predict` code that performs an update to a Gasuuain after a motion is incorporated."
   ]
  },
  {
   "cell_type": "code",
   "execution_count": 3,
   "metadata": {},
   "outputs": [],
   "source": [
    "# the update function\n",
    "def update(mean1, var1, mean2, var2):\n",
    "    ''' This function takes in two means and two squared variance terms,\n",
    "        and returns updated gaussian parameters.'''\n",
    "    # Calculate the new parameters\n",
    "    new_mean = (var2*mean1 + var1*mean2)/(var2+var1)\n",
    "    new_var = 1/(1/var2 + 1/var1)\n",
    "    \n",
    "    return [new_mean, new_var]\n",
    "\n",
    "\n",
    "# the motion update/predict function\n",
    "def predict(mean1, var1, mean2, var2):\n",
    "    ''' This function takes in two means and two squared variance terms,\n",
    "        and returns updated gaussian parameters, after motion.'''\n",
    "    # Calculate the new parameters\n",
    "    new_mean = mean1 + mean2\n",
    "    new_var = var1 + var2\n",
    "    \n",
    "    return [new_mean, new_var]"
   ]
  },
  {
   "cell_type": "code",
   "execution_count": 4,
   "metadata": {},
   "outputs": [
    {
     "data": {
      "text/plain": [
       "[27.5, 2.25]"
      ]
     },
     "execution_count": 4,
     "metadata": {},
     "output_type": "execute_result"
    }
   ],
   "source": [
    "update(20,9,30,3)"
   ]
  },
  {
   "cell_type": "markdown",
   "metadata": {},
   "source": [
    "### QUIZ: For the given measurements and motions, write complete 1D Kalman filter code that loops through all of these in order.\n",
    "\n",
    "Your complete code should look at sensor measurements then motions in that sequence until all updates are done!\n",
    "\n",
    "### Initial Uncertainty\n",
    "\n",
    "You'll see that you are given initial parameters below, and this includes and nitial location estimation, `mu` and squared variance, `sig`. Note that the initial estimate is set to the location 0, and the variance is extremely large; this is a state of high confusion much like the *uniform* distribution we used in the histogram filter. There are also values given for the squared variance associated with the sensor measurements and the motion, since neither of those readings are perfect, either.\n",
    "\n",
    "You should see that even though the initial estimate for location (the initial `mu`) is far from the first measurement, it should catch up fairly quickly as you cycle through measurements and motions."
   ]
  },
  {
   "cell_type": "code",
   "execution_count": 17,
   "metadata": {},
   "outputs": [
    {
     "name": "stdout",
     "output_type": "stream",
     "text": [
      "Update: [5.037984806077569, 399.8400639744102]\n",
      "Predict: [6.037984806077569, 401.8400639744102]\n",
      "Update: [6.018948819239235, 200.45896034809977]\n",
      "Predict: [7.018948819239235, 202.45896034809977]\n",
      "Update: [7.012580985916974, 134.42174400136358]\n",
      "Predict: [9.012580985916973, 136.42174400136358]\n",
      "Update: [9.009381413827953, 101.72722901480057]\n",
      "Predict: [19.009381413827953, 103.72722901480057]\n",
      "Update: [17.154174636498148, 82.36777608204527]\n",
      "Predict: [27.154174636498148, 84.36777608204527]\n",
      "\n",
      "\n",
      "Final result: [27.154174636498148, 84.36777608204527]\n"
     ]
    }
   ],
   "source": [
    "# measurements for mu and motions, U\n",
    "measurements = [5., 6., 7., 9., 10.]\n",
    "motions = [1., 1., 2., 10., 10.]\n",
    "\n",
    "# initial parameters\n",
    "measurement_sig = 400.\n",
    "motion_sig = 2.\n",
    "mu = 100.\n",
    "sig = 1000000.\n",
    "\n",
    "\n",
    "## TODO: Loop through all measurements/motions\n",
    "# this code assumes measurements and motions have the same length\n",
    "# so their updates can be performed in pairs\n",
    "for n in range(len(measurements)):\n",
    "    # measurement update, with uncertainty\n",
    "    mu, sig = update(mu, sig, measurements[n], measurement_sig)\n",
    "    print('Update: [{}, {}]'.format(mu, sig))\n",
    "    # motion update, with uncertainty\n",
    "    mu, sig = predict(mu, sig, motions[n], motion_sig)\n",
    "    print('Predict: [{}, {}]'.format(mu, sig))\n",
    "\n",
    "    \n",
    "# print the final, resultant mu, sig\n",
    "print('\\n')\n",
    "print('Final result: [{}, {}]'.format(mu, sig))"
   ]
  },
  {
   "cell_type": "code",
   "execution_count": 8,
   "metadata": {},
   "outputs": [
    {
     "data": {
      "text/plain": [
       "[<matplotlib.lines.Line2D at 0x6ef36590>]"
      ]
     },
     "execution_count": 8,
     "metadata": {},
     "output_type": "execute_result"
    },
    {
     "data": {
      "image/png": "[encoded data removed]",
      "text/plain": [
       "<Figure size 432x288 with 1 Axes>"
      ]
     },
     "metadata": {
      "needs_background": "light"
     },
     "output_type": "display_data"
    }
   ],
   "source": [
    "## Print out and display the final, resulting Gaussian \n",
    "# set the parameters equal to the output of the Kalman filter result\n",
    "mu = mu\n",
    "sigma2 = sig\n",
    "\n",
    "# define a range of x values\n",
    "x_axis = np.arange(-20, 20, 0.1)\n",
    "\n",
    "# create a corresponding list of gaussian values\n",
    "g = []\n",
    "for x in x_axis:\n",
    "    g.append(f(mu, sigma2, x))\n",
    "\n",
    "# plot the result \n",
    "plt.plot(x_axis, g)"
   ]
  },
  {
   "cell_type": "markdown",
   "metadata": {},
   "source": [
    "### Plot a Gaussian\n",
    "\n",
    "Plot a Gaussian by looping through a range of x values and creating a resulting list of Gaussian values, `g`, as shown below. You're encouraged to see what happens if you change the values of `mu` and `sigma2`."
   ]
  },
  {
   "cell_type": "code",
   "execution_count": 10,
   "metadata": {},
   "outputs": [
    {
     "data": {
      "text/plain": [
       "[<matplotlib.lines.Line2D at 0x6ee3c550>]"
      ]
     },
     "execution_count": 10,
     "metadata": {},
     "output_type": "execute_result"
    },
    {
     "data": {
      "image/png": "[encoded data removed]",
      "text/plain": [
       "<Figure size 432x288 with 1 Axes>"
      ]
     },
     "metadata": {
      "needs_background": "light"
     },
     "output_type": "display_data"
    }
   ],
   "source": [
    "# display the *initial* gaussian over a range of x values\n",
    "# define the parameters\n",
    "mu = 0\n",
    "sigma2 = 100000\n",
    "\n",
    "# define a range of x values\n",
    "x_axis = np.arange(-20, 20, 0.1)\n",
    "\n",
    "# create a corresponding list of gaussian values\n",
    "g = []\n",
    "for x in x_axis:\n",
    "    g.append(f(mu, sigma2, x))\n",
    "\n",
    "# plot the result \n",
    "plt.plot(x_axis, g)"
   ]
  },
  {
   "cell_type": "code",
   "execution_count": null,
   "metadata": {},
   "outputs": [],
   "source": []
  }
 ],
 "metadata": {
  "celltoolbar": "Edit Metadata",
  "kernelspec": {
   "display_name": "Python 3",
   "language": "python",
   "name": "python3"
  },
  "language_info": {
   "codemirror_mode": {
    "name": "ipython",
    "version": 3
   },
   "file_extension": ".py",
   "mimetype": "text/x-python",
   "name": "python",
   "nbconvert_exporter": "python",
   "pygments_lexer": "ipython3",
   "version": "3.7.3"
  }
 },
 "nbformat": 4,
 "nbformat_minor": 2
}
